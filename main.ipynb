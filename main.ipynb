{
 "cells": [
  {
   "cell_type": "code",
   "execution_count": 1,
   "id": "67594754",
   "metadata": {},
   "outputs": [],
   "source": [
    "import os\n",
    "import cv2\n",
    "import numpy as np\n",
    "from PIL import Image"
   ]
  },
  {
   "cell_type": "code",
   "execution_count": 2,
   "id": "15550e9a",
   "metadata": {},
   "outputs": [],
   "source": [
    "\n",
    "with open(\"angry.txt\", \"w\") as a:\n",
    "    for path, subdirs, files in os.walk(r'C:\\Users\\shelly\\facial_expressions\\data_set\\angry'):\n",
    "       for filename in files:\n",
    "         f = os.path.join(filename)\n",
    "         a.write(str(f) + os.linesep) "
   ]
  },
  {
   "cell_type": "code",
   "execution_count": 3,
   "id": "69d05e34",
   "metadata": {},
   "outputs": [
    {
     "name": "stdout",
     "output_type": "stream",
     "text": [
      "\n",
      " Done creating face data\n"
     ]
    }
   ],
   "source": [
    "\n",
    "\n",
    "with open('angry.txt','r') as f:\n",
    "    images = [line.strip() for line in f]\n",
    "\n",
    "face_detector = cv2.CascadeClassifier(cv2.data.haarcascades + 'haarcascade_frontalface_default.xml')\n",
    "\n",
    "# For each Emotion, enter one numeric face id\n",
    "face_id = input('\\n Enter Emotion id end press <return> ==>  ')\n",
    "\n",
    "count = 0\n",
    "\n",
    "for image in images:\n",
    "    img = cv2.imread(\"data_set/angry/\"+image)\n",
    "    if(img is not None):\n",
    "    \n",
    "        gray = cv2.cvtColor(img, cv2.COLOR_BGR2GRAY)\n",
    "        faces = face_detector.detectMultiScale(gray, 1.3, 5)\n",
    "\n",
    "    for (x,y,w,h) in faces:\n",
    "\n",
    "        cv2.rectangle(img, (x,y), (x+w,y+h), (255,0,0), 2)     \n",
    "        count += 1\n",
    "\n",
    "        # Save the captured image into the datasets folder\n",
    "        cv2.imwrite(\"dataset/User.\" + str(face_id) + '.' + str(count) + \".jpg\", gray[y:y+h,x:x+w])\n",
    "\n",
    "print(\"\\n Done creating face data\")"
   ]
  },
  {
   "cell_type": "code",
   "execution_count": 4,
   "id": "282544f3",
   "metadata": {},
   "outputs": [],
   "source": [
    "\n",
    "with open(\"happy.txt\", \"w\") as a:\n",
    "    for path, subdirs, files in os.walk(r'C:\\Users\\shelly\\facial_expressions\\data_set\\happy'):\n",
    "       for filename in files:\n",
    "         f = os.path.join(filename)\n",
    "         a.write(str(f) + os.linesep) "
   ]
  },
  {
   "cell_type": "code",
   "execution_count": 5,
   "id": "6fc544cb",
   "metadata": {},
   "outputs": [
    {
     "name": "stdout",
     "output_type": "stream",
     "text": [
      "\n",
      " Done creating face data\n"
     ]
    }
   ],
   "source": [
    "\n",
    "with open('happy.txt','r') as f:\n",
    "    images = [line.strip() for line in f]\n",
    "\n",
    "face_detector = cv2.CascadeClassifier(cv2.data.haarcascades + 'haarcascade_frontalface_default.xml')\n",
    "\n",
    "# For each Emotion, enter one numeric face id\n",
    "face_id = input('\\n Enter Emotion id end press <return> ==>  ')\n",
    "\n",
    "count = 0\n",
    "\n",
    "for image in images:\n",
    "    img = cv2.imread(\"data_set/happy/\"+image)\n",
    "    if(img is not None):\n",
    "    \n",
    "        gray = cv2.cvtColor(img, cv2.COLOR_BGR2GRAY)\n",
    "        faces = face_detector.detectMultiScale(gray, 1.3, 5)\n",
    "\n",
    "    for (x,y,w,h) in faces:\n",
    "\n",
    "        cv2.rectangle(img, (x,y), (x+w,y+h), (255,0,0), 2)     \n",
    "        count += 1\n",
    "\n",
    "        # Save the captured image into the datasets folder\n",
    "        cv2.imwrite(\"dataset/User.\" + str(face_id) + '.' + str(count) + \".jpg\", gray[y:y+h,x:x+w])\n",
    "\n",
    "print(\"\\n Done creating face data\")"
   ]
  },
  {
   "cell_type": "code",
   "execution_count": 6,
   "id": "2382f7be",
   "metadata": {},
   "outputs": [],
   "source": [
    "\n",
    "with open(\"sad.txt\", \"w\") as a:\n",
    "    for path, subdirs, files in os.walk(r'C:\\Users\\shelly\\facial_expressions\\data_set\\sad'):\n",
    "       for filename in files:\n",
    "         f = os.path.join(filename)\n",
    "         a.write(str(f) + os.linesep) "
   ]
  },
  {
   "cell_type": "code",
   "execution_count": 7,
   "id": "38a88bbd",
   "metadata": {},
   "outputs": [
    {
     "name": "stdout",
     "output_type": "stream",
     "text": [
      "\n",
      " Done creating face data\n"
     ]
    }
   ],
   "source": [
    "\n",
    "with open('sad.txt','r') as f:\n",
    "    images = [line.strip() for line in f]\n",
    "\n",
    "face_detector = cv2.CascadeClassifier(cv2.data.haarcascades + 'haarcascade_frontalface_default.xml')\n",
    "\n",
    "# For each Emotion, enter one numeric face id\n",
    "face_id = input('\\n Enter Emotion id end press <enter> ==>  ')\n",
    "\n",
    "count = 0\n",
    "\n",
    "for image in images:\n",
    "    img = cv2.imread(\"data_set/sad/\"+image)\n",
    "    if(img is not None):\n",
    "    \n",
    "        gray = cv2.cvtColor(img, cv2.COLOR_BGR2GRAY)\n",
    "        faces = face_detector.detectMultiScale(gray, 1.3, 5)\n",
    "\n",
    "    for (x,y,w,h) in faces:\n",
    "\n",
    "        cv2.rectangle(img, (x,y), (x+w,y+h), (255,0,0), 2)     \n",
    "        count += 1\n",
    "\n",
    "        # Save the captured image into the datasets folder\n",
    "        cv2.imwrite(\"dataset/User.\" + str(face_id) + '.' + str(count) + \".jpg\", gray[y:y+h,x:x+w])\n",
    "\n",
    "print(\"\\n Done creating face data\")"
   ]
  },
  {
   "cell_type": "code",
   "execution_count": 9,
   "id": "c339e688",
   "metadata": {},
   "outputs": [
    {
     "name": "stdout",
     "output_type": "stream",
     "text": [
      "\n",
      " [INFO] Training faces....\n",
      "\n",
      " [INFO] 3 Emotions trained. Exiting Program\n"
     ]
    }
   ],
   "source": [
    "\n",
    "\n",
    "# Path for face image database\n",
    "path = r\"C:\\Users\\shelly\\facial_expressions\\dataset\"\n",
    "\n",
    "recognizer = cv2.face.LBPHFaceRecognizer_create()\n",
    "detector = cv2.CascadeClassifier(cv2.data.haarcascades + \"haarcascade_frontalface_default.xml\");\n",
    "\n",
    "# function to get the images and label data\n",
    "def getImagesAndLabels(path):\n",
    "\n",
    "    imagePaths = [os.path.join(path,f) for f in os.listdir(path)]     \n",
    "    faceSamples=[]\n",
    "    ids = []\n",
    "\n",
    "    for imagePath in imagePaths:\n",
    "\n",
    "        \n",
    "        PIL_img = Image.open(imagePath).convert('L') # convert it to grayscale\n",
    "        img_numpy = np.array(PIL_img,'uint8')\n",
    "        \n",
    "        id = int(os.path.split(imagePath)[-1].split(\".\")[1])\n",
    "        faces = detector.detectMultiScale(img_numpy)\n",
    "        if(faces is not None):\n",
    "            for (x,y,w,h) in faces:\n",
    "                \n",
    "                faceSamples.append(img_numpy[y:y+h,x:x+w])\n",
    "                \n",
    "                ids.append(id)\n",
    "\n",
    "    return faceSamples,ids\n",
    "\n",
    "print (\"\\n [INFO] Training faces....\")\n",
    "faces,ids = getImagesAndLabels(path)\n",
    "recognizer.train(faces, np.array(ids))\n",
    "\n",
    "# Save the model into trainer/trainer.yml\n",
    "recognizer.write('trainer/trainer.yml') \n",
    "\n",
    "# Print the numer of Emotions trained and end program\n",
    "print(\"\\n [INFO] {0} Emotions trained. Exiting Program\".format(len(np.unique(ids))))\n"
   ]
  }
 ],
 "metadata": {
  "kernelspec": {
   "display_name": "Python 3 (ipykernel)",
   "language": "python",
   "name": "python3"
  },
  "language_info": {
   "codemirror_mode": {
    "name": "ipython",
    "version": 3
   },
   "file_extension": ".py",
   "mimetype": "text/x-python",
   "name": "python",
   "nbconvert_exporter": "python",
   "pygments_lexer": "ipython3",
   "version": "3.10.4"
  }
 },
 "nbformat": 4,
 "nbformat_minor": 5
}
